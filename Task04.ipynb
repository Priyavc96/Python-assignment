{
  "nbformat": 4,
  "nbformat_minor": 0,
  "metadata": {
    "colab": {
      "name": "Task04.ipynb",
      "provenance": []
    },
    "kernelspec": {
      "name": "python3",
      "display_name": "Python 3"
    },
    "language_info": {
      "name": "python"
    }
  },
  "cells": [
    {
      "cell_type": "code",
      "metadata": {
        "id": "0tiPJ3MUeZMj"
      },
      "source": [
        ""
      ],
      "execution_count": null,
      "outputs": []
    },
    {
      "cell_type": "markdown",
      "metadata": {
        "id": "JFfqVR1bfCSj"
      },
      "source": [
        "##Task 5\n"
      ]
    },
    {
      "cell_type": "code",
      "metadata": {
        "colab": {
          "base_uri": "https://localhost:8080/",
          "height": 35
        },
        "id": "l8PvNVlpfJPE",
        "outputId": "a2878789-1579-4be2-cc22-c4d558a138c4"
      },
      "source": [
        "dict1 = { \n",
        "   \"april_batch\":{ \n",
        "      \"student\":{ \n",
        "         \"name\":\"Mike\",\n",
        "         \"marks\":{ \n",
        "            \"python\":80,\n",
        "            \"maths\":70\n",
        "         }\n",
        "      }\n",
        "   }\n",
        "}\n",
        "\n",
        "#Access \"Mike\"\n",
        "dict1[\"april_batch\"][\"student\"][\"name\"]\n"
      ],
      "execution_count": 5,
      "outputs": [
        {
          "output_type": "execute_result",
          "data": {
            "application/vnd.google.colaboratory.intrinsic+json": {
              "type": "string"
            },
            "text/plain": [
              "'Mike'"
            ]
          },
          "metadata": {
            "tags": []
          },
          "execution_count": 5
        }
      ]
    },
    {
      "cell_type": "code",
      "metadata": {
        "colab": {
          "base_uri": "https://localhost:8080/"
        },
        "id": "TCvUlAXCgmNy",
        "outputId": "5dc286fd-d09b-4c93-dc43-fe02f25682de"
      },
      "source": [
        "#Access 80\n",
        "dict1[\"april_batch\"][\"student\"][\"marks\"][\"python\"]"
      ],
      "execution_count": 9,
      "outputs": [
        {
          "output_type": "execute_result",
          "data": {
            "text/plain": [
              "80"
            ]
          },
          "metadata": {
            "tags": []
          },
          "execution_count": 9
        }
      ]
    },
    {
      "cell_type": "code",
      "metadata": {
        "colab": {
          "base_uri": "https://localhost:8080/"
        },
        "id": "iZMv60-qiKq3",
        "outputId": "ead330a0-94f4-485a-b49c-b06a21775a23"
      },
      "source": [
        "#change \"Mike\" to \"Your name\"\n",
        "dict1[\"april_batch\"][\"student\"][\"name\"]=\"Priyanka\"\n",
        "print(dict1)"
      ],
      "execution_count": 11,
      "outputs": [
        {
          "output_type": "stream",
          "text": [
            "{'april_batch': {'student': {'name': 'Priyanka', 'marks': {'python': 80, 'maths': 70}}}}\n"
          ],
          "name": "stdout"
        }
      ]
    },
    {
      "cell_type": "code",
      "metadata": {
        "colab": {
          "base_uri": "https://localhost:8080/"
        },
        "id": "S29NsZ2uivlZ",
        "outputId": "db95c604-f7d3-4b19-aabc-4b715f3260aa"
      },
      "source": [
        "#Add ML = 80 and DL = 80 inside marks\n",
        "dict1[\"april_batch\"][\"student\"][\"marks\"]['ML']=80\n",
        "dict1[\"april_batch\"][\"student\"][\"marks\"]['DL']=80\n",
        "print(dict1)"
      ],
      "execution_count": 19,
      "outputs": [
        {
          "output_type": "stream",
          "text": [
            "{'april_batch': {'student': {'name': 'Priyanka', 'marks': {'python': 80, 'maths': 70, 'ML': 80, 'DL': 80}}}}\n"
          ],
          "name": "stdout"
        }
      ]
    }
  ]
}