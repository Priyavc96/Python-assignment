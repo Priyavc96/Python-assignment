{
  "nbformat": 4,
  "nbformat_minor": 0,
  "metadata": {
    "colab": {
      "name": "Task11.ipynb",
      "provenance": []
    },
    "kernelspec": {
      "name": "python3",
      "display_name": "Python 3"
    },
    "language_info": {
      "name": "python"
    }
  },
  "cells": [
    {
      "cell_type": "markdown",
      "metadata": {
        "id": "uAg6D5y3IC7b"
      },
      "source": [
        "###Task 11.1"
      ]
    },
    {
      "cell_type": "markdown",
      "metadata": {
        "id": "07_vq9gGINDP"
      },
      "source": [
        "######Explain Return keyword with example."
      ]
    },
    {
      "cell_type": "markdown",
      "metadata": {
        "id": "-Q6iFp0fITVW"
      },
      "source": [
        "###### A return statement is used to end the execution of the function call and “returns” the result (value of the expression following the return keyword) to the caller"
      ]
    },
    {
      "cell_type": "markdown",
      "metadata": {
        "id": "wfXyIfhvJKkm"
      },
      "source": [
        "#### Task 11.2"
      ]
    },
    {
      "cell_type": "code",
      "metadata": {
        "colab": {
          "base_uri": "https://localhost:8080/"
        },
        "id": "chAcbdncIosM",
        "outputId": "70c0c7bf-33ef-411b-dc3a-7d6e645ca03a"
      },
      "source": [
        "#Example\n",
        "\n",
        "def add():\n",
        "  return 3+3\n",
        "\n",
        "print(add())\n"
      ],
      "execution_count": 12,
      "outputs": [
        {
          "output_type": "stream",
          "text": [
            "6\n"
          ],
          "name": "stdout"
        }
      ]
    },
    {
      "cell_type": "code",
      "metadata": {
        "colab": {
          "base_uri": "https://localhost:8080/"
        },
        "id": "j4nnDQjcE4RD",
        "outputId": "7cde7957-cde5-4d9d-bf1b-f00634998724"
      },
      "source": [
        "#Ask 2 numbers from users and store it in num1 and num2\n",
        "num1 = input(\"Enter First Number: \")\n",
        "num2 = input(\"Enter Second Number: \")"
      ],
      "execution_count": 1,
      "outputs": [
        {
          "output_type": "stream",
          "text": [
            "Enter First Number: 10\n",
            "Enter Second Number: 5\n"
          ],
          "name": "stdout"
        }
      ]
    },
    {
      "cell_type": "code",
      "metadata": {
        "id": "vO_pleazFLWz"
      },
      "source": [
        "def addition(num1,num2):\n",
        "  sum = num1+num2\n",
        "  return sum"
      ],
      "execution_count": 2,
      "outputs": []
    },
    {
      "cell_type": "code",
      "metadata": {
        "id": "A7qBEl9xFZ0M"
      },
      "source": [
        "def substraction(num1,num2):\n",
        "  sub = num1-num2\n",
        "  return sub"
      ],
      "execution_count": 3,
      "outputs": []
    },
    {
      "cell_type": "code",
      "metadata": {
        "id": "oTgtnsQ2Ffyh"
      },
      "source": [
        "def multiplication(num1,num2):\n",
        "  mult = num1*num2\n",
        "  return mult"
      ],
      "execution_count": 4,
      "outputs": []
    },
    {
      "cell_type": "code",
      "metadata": {
        "id": "4qHtpzb6Fkmu"
      },
      "source": [
        "def division(num1,num2):\n",
        "  div = num1/num2\n",
        "  return div"
      ],
      "execution_count": 5,
      "outputs": []
    },
    {
      "cell_type": "code",
      "metadata": {
        "colab": {
          "base_uri": "https://localhost:8080/"
        },
        "id": "utwjCsT7FuBX",
        "outputId": "d783b90d-919d-46ef-ae6a-47503c468fad"
      },
      "source": [
        "#Ask user to press 1 for addition,2 for subtraction,3 for multiplication and 4 for division\n",
        "print(\"Press 1 for Addition\")\n",
        "print(\"Press 2 for Substraction\")\n",
        "print(\"Press 3 for Multiplication\")\n",
        "print(\"Press 4 for Division\")\n",
        "choice = input(\"Enter Your Choice: \");"
      ],
      "execution_count": 10,
      "outputs": [
        {
          "output_type": "stream",
          "text": [
            "Press 1 for Addition\n",
            "Press 2 for Substraction\n",
            "Press 3 for Multiplication\n",
            "Press 4 for Division\n",
            "Enter Your Choice: 3\n"
          ],
          "name": "stdout"
        }
      ]
    },
    {
      "cell_type": "code",
      "metadata": {
        "colab": {
          "base_uri": "https://localhost:8080/"
        },
        "id": "6QJzC4RqGMdh",
        "outputId": "2f9ce178-1ad0-4e14-f12e-f2a569227924"
      },
      "source": [
        "choice = int(choice)\n",
        "num1 = int(num1)\n",
        "num2 = int(num2)\n",
        "if(choice==1):\n",
        "  print(addition(num1,num2))\n",
        "elif(choice==2):\n",
        "  print(substraction(num1,num2))\n",
        "elif(choice==3):\n",
        "  print(multiplication(num1,num2))\n",
        "elif(choice==4):\n",
        "  print(division(num1,num2))\n",
        "else:\n",
        "  print(\"Invalid Choice\")"
      ],
      "execution_count": 11,
      "outputs": [
        {
          "output_type": "stream",
          "text": [
            "50\n"
          ],
          "name": "stdout"
        }
      ]
    }
  ]
}