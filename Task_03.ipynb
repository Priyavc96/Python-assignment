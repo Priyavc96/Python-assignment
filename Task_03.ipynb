{
  "nbformat": 4,
  "nbformat_minor": 0,
  "metadata": {
    "colab": {
      "name": "Task 03.ipynb",
      "provenance": []
    },
    "kernelspec": {
      "name": "python3",
      "display_name": "Python 3"
    },
    "language_info": {
      "name": "python"
    }
  },
  "cells": [
    {
      "cell_type": "code",
      "metadata": {
        "id": "zNnHgoYxhCoI"
      },
      "source": [
        ""
      ],
      "execution_count": null,
      "outputs": []
    },
    {
      "cell_type": "markdown",
      "metadata": {
        "id": "Wt4wWGLbhYlU"
      },
      "source": [
        "##Task 3.1\n"
      ]
    },
    {
      "cell_type": "code",
      "metadata": {
        "colab": {
          "base_uri": "https://localhost:8080/"
        },
        "id": "PaYmzbLQhfla",
        "outputId": "412d7569-f976-490d-b2d6-a423bc725bd7"
      },
      "source": [
        "#Remove function in python\n",
        "A=[1,2,4,5,6,7,2,4,5,8,9]\n",
        "A.remove(2)\n",
        "print(A)\n"
      ],
      "execution_count": 6,
      "outputs": [
        {
          "output_type": "stream",
          "text": [
            "[1, 4, 5, 6, 7, 2, 4, 5, 8, 9]\n"
          ],
          "name": "stdout"
        }
      ]
    },
    {
      "cell_type": "code",
      "metadata": {
        "colab": {
          "base_uri": "https://localhost:8080/"
        },
        "id": "zLj2IOWPjDG9",
        "outputId": "8a7971b4-6480-42d5-e835-a57d00aa3fea"
      },
      "source": [
        "#Count function\n",
        "x=['apple','banana','mango','apple','strawberry','apple']\n",
        "x.count('apple')"
      ],
      "execution_count": 9,
      "outputs": [
        {
          "output_type": "execute_result",
          "data": {
            "text/plain": [
              "3"
            ]
          },
          "metadata": {
            "tags": []
          },
          "execution_count": 9
        }
      ]
    },
    {
      "cell_type": "code",
      "metadata": {
        "colab": {
          "base_uri": "https://localhost:8080/"
        },
        "id": "4jeCf2kmjuMz",
        "outputId": "cf18dbbf-93c4-4df0-c6d3-c23e9b0612df"
      },
      "source": [
        "#Clear function\n",
        "y=[11,22,33,44,55,66,77]\n",
        "print(y)\n",
        "y.clear()\n",
        "print(y)"
      ],
      "execution_count": 13,
      "outputs": [
        {
          "output_type": "stream",
          "text": [
            "[11, 22, 33, 44, 55, 66, 77]\n",
            "[]\n"
          ],
          "name": "stdout"
        }
      ]
    },
    {
      "cell_type": "code",
      "metadata": {
        "colab": {
          "base_uri": "https://localhost:8080/"
        },
        "id": "e4xrhSeJkexa",
        "outputId": "a6a231e9-b2be-4fed-f0ef-2b86fffd749e"
      },
      "source": [
        "#Sort function\n",
        "z=['orange','mango','banana','apple','lichi','strawberry']\n",
        "z.sort()\n",
        "print(z)\n"
      ],
      "execution_count": 15,
      "outputs": [
        {
          "output_type": "stream",
          "text": [
            "['apple', 'banana', 'lichi', 'mango', 'orange', 'strawberry']\n"
          ],
          "name": "stdout"
        }
      ]
    },
    {
      "cell_type": "code",
      "metadata": {
        "colab": {
          "base_uri": "https://localhost:8080/"
        },
        "id": "T3CEHMZilMsj",
        "outputId": "2c6d1b0a-ce02-4324-99a0-af7a542ba927"
      },
      "source": [
        "#Reverse function\n",
        "list_1=['Maruti','BMW','Audi','Lamborgini']\n",
        "list_1.reverse()\n",
        "print(list_1)"
      ],
      "execution_count": 17,
      "outputs": [
        {
          "output_type": "stream",
          "text": [
            "['Lamborgini', 'Audi', 'BMW', 'Maruti']\n"
          ],
          "name": "stdout"
        }
      ]
    },
    {
      "cell_type": "markdown",
      "metadata": {
        "id": "qLKm7vl3mJ2g"
      },
      "source": [
        "##Task 3.2\n"
      ]
    },
    {
      "cell_type": "code",
      "metadata": {
        "colab": {
          "base_uri": "https://localhost:8080/"
        },
        "id": "l98D01LYmNcx",
        "outputId": "0e06d3f7-52b3-481b-96d3-1f301f8bb120"
      },
      "source": [
        "# create a list of lenght = 10 and access 5th to 8th data.\n",
        "d=[1,2,3,4,5,6,7,8,9,10]\n",
        "d[4:8]\n"
      ],
      "execution_count": 19,
      "outputs": [
        {
          "output_type": "execute_result",
          "data": {
            "text/plain": [
              "[5, 6, 7, 8]"
            ]
          },
          "metadata": {
            "tags": []
          },
          "execution_count": 19
        }
      ]
    },
    {
      "cell_type": "markdown",
      "metadata": {
        "id": "280Kx4fLnQWq"
      },
      "source": [
        "##Task4\n"
      ]
    },
    {
      "cell_type": "code",
      "metadata": {
        "colab": {
          "base_uri": "https://localhost:8080/"
        },
        "id": "GUSh3sm0nTTQ",
        "outputId": "ce90d585-fb47-4112-9b34-8b65e0cba50c"
      },
      "source": [
        "#Add item 70 after 60 in the following Python List\n",
        "l1 = [10, 20, [30, 40, [50, 60], 80], 90, 100]\n",
        "l1[2][2].insert(60,70)\n",
        "print(l1)"
      ],
      "execution_count": 40,
      "outputs": [
        {
          "output_type": "stream",
          "text": [
            "[10, 20, [30, 40, [50, 60, 70], 80], 90, 100]\n"
          ],
          "name": "stdout"
        }
      ]
    },
    {
      "cell_type": "code",
      "metadata": {
        "colab": {
          "base_uri": "https://localhost:8080/"
        },
        "id": "BQaquZ0TpkLS",
        "outputId": "70ba2966-3f73-45d7-87a2-c4d2c7ea505c"
      },
      "source": [
        "#add sublist [7,8] after 6\n",
        "l2 = [1,2,[3,4,5,6],9]\n",
        "l2[2].insert(6,[7,8])\n",
        "print(l2)"
      ],
      "execution_count": 43,
      "outputs": [
        {
          "output_type": "stream",
          "text": [
            "[1, 2, [3, 4, 5, 6, [7, 8]], 9]\n"
          ],
          "name": "stdout"
        }
      ]
    }
  ]
}