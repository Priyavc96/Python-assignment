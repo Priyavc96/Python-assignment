{
  "nbformat": 4,
  "nbformat_minor": 0,
  "metadata": {
    "colab": {
      "name": "Task10.ipynb",
      "provenance": [],
      "collapsed_sections": []
    },
    "kernelspec": {
      "name": "python3",
      "display_name": "Python 3"
    },
    "language_info": {
      "name": "python"
    }
  },
  "cells": [
    {
      "cell_type": "markdown",
      "metadata": {
        "id": "myNIW0jhV-ZL"
      },
      "source": [
        "##Task 10.1  Usage of continue wiith an example."
      ]
    },
    {
      "cell_type": "markdown",
      "metadata": {
        "id": "8wXcsQosaWnz"
      },
      "source": [
        "The continue keyword is used to end the current iteration in a for loop (or a while loop), and continues to the next iteration."
      ]
    },
    {
      "cell_type": "code",
      "metadata": {
        "colab": {
          "base_uri": "https://localhost:8080/"
        },
        "id": "zxw09_l7aiLv",
        "outputId": "2402815f-5c65-4ed9-8d0c-247a28fd2482"
      },
      "source": [
        "# Example:\n",
        "A=[2,4,6,8,10,15,16,18]\n",
        "for i in A:\n",
        "  if i%5==0:\n",
        "    continue\n",
        "  print(i)"
      ],
      "execution_count": 16,
      "outputs": [
        {
          "output_type": "stream",
          "text": [
            "2\n",
            "4\n",
            "6\n",
            "8\n",
            "16\n",
            "18\n"
          ],
          "name": "stdout"
        }
      ]
    },
    {
      "cell_type": "markdown",
      "metadata": {
        "id": "hxNW2aWkiFHi"
      },
      "source": [
        "##Task 10.2 Passkeyword with example"
      ]
    },
    {
      "cell_type": "markdown",
      "metadata": {
        "id": "NTvx3RI7icyh"
      },
      "source": [
        "In Python, pass is a null statement. The interpreter does not ignore a pass statement, but nothing happens and the statement results into no operation, but you avoid getting an error when empty code is not allowed."
      ]
    },
    {
      "cell_type": "code",
      "metadata": {
        "id": "C1urxOw_jjbL"
      },
      "source": [
        "#Example 1\n",
        "a = 10\n",
        "b = 20\n",
        "  \n",
        "if(a<b):\n",
        "     pass\n",
        "else:\n",
        "     print(\"tom\")\n",
        "  "
      ],
      "execution_count": 18,
      "outputs": []
    },
    {
      "cell_type": "code",
      "metadata": {
        "colab": {
          "base_uri": "https://localhost:8080/"
        },
        "id": "zIvd7N67l5jB",
        "outputId": "709354e7-d640-42c1-b9ed-6ffa155c240d"
      },
      "source": [
        "# Example 2\n",
        "A =['a', 'b', 'c', 'd']\n",
        "  \n",
        "for i in A:\n",
        "    if(i =='a'):\n",
        "        pass \n",
        "    else:\n",
        "        print(i)"
      ],
      "execution_count": 19,
      "outputs": [
        {
          "output_type": "stream",
          "text": [
            "b\n",
            "c\n",
            "d\n"
          ],
          "name": "stdout"
        }
      ]
    },
    {
      "cell_type": "markdown",
      "metadata": {
        "id": "dnF-RJsEmxg3"
      },
      "source": [
        "##Task 10"
      ]
    },
    {
      "cell_type": "code",
      "metadata": {
        "colab": {
          "base_uri": "https://localhost:8080/"
        },
        "id": "DSvzeE6nm2NJ",
        "outputId": "47ea003d-05f5-445a-c5b8-ad39a092cbc9"
      },
      "source": [
        "#Using while loop print numbers from 10 to 1\n",
        "num=10\n",
        "while num>0:\n",
        "     print(num)\n",
        "     num-=1"
      ],
      "execution_count": 30,
      "outputs": [
        {
          "output_type": "stream",
          "text": [
            "10\n",
            "9\n",
            "8\n",
            "7\n",
            "6\n",
            "5\n",
            "4\n",
            "3\n",
            "2\n",
            "1\n"
          ],
          "name": "stdout"
        }
      ]
    },
    {
      "cell_type": "markdown",
      "metadata": {
        "id": "5-3NRrcB2Qb0"
      },
      "source": [
        "Using for loop to loop over tuples,sets and dictionaries"
      ]
    },
    {
      "cell_type": "code",
      "metadata": {
        "colab": {
          "base_uri": "https://localhost:8080/"
        },
        "id": "3-hS-7LR2UPD",
        "outputId": "b95463a7-4b01-42ff-ea21-7f1b982f57c4"
      },
      "source": [
        "#for loop to loop over tuple\n",
        "A=(1,2,0.5,\"mango\",'banana')\n",
        "for i in A:\n",
        "  print(i)"
      ],
      "execution_count": 31,
      "outputs": [
        {
          "output_type": "stream",
          "text": [
            "1\n",
            "2\n",
            "0.5\n",
            "mango\n",
            "banana\n"
          ],
          "name": "stdout"
        }
      ]
    },
    {
      "cell_type": "code",
      "metadata": {
        "colab": {
          "base_uri": "https://localhost:8080/"
        },
        "id": "NBO8EAdJ24jF",
        "outputId": "092c0b35-1ce6-48b1-bad9-3296861a486b"
      },
      "source": [
        "#for loop to loop over set\n",
        "X={10,20,30,40,50}\n",
        "for i in X:\n",
        "  print(i)"
      ],
      "execution_count": 32,
      "outputs": [
        {
          "output_type": "stream",
          "text": [
            "40\n",
            "10\n",
            "50\n",
            "20\n",
            "30\n"
          ],
          "name": "stdout"
        }
      ]
    },
    {
      "cell_type": "code",
      "metadata": {
        "colab": {
          "base_uri": "https://localhost:8080/"
        },
        "id": "Blkg8UMa3Luk",
        "outputId": "2f288817-7ce9-4be4-d48f-8a4771d79edd"
      },
      "source": [
        "#for loop to loop over dictonary\n",
        "\n",
        "My_dict={'Name':'Rahul','Age':'22','Weight':'55'}\n",
        "for key in My_dict.keys():\n",
        "  print(key)\n",
        "print(\"\")\n",
        "for value in My_dict.values():\n",
        "  print(value) \n",
        "print('')\n",
        "for items in My_dict.items():\n",
        "  print(items)"
      ],
      "execution_count": 39,
      "outputs": [
        {
          "output_type": "stream",
          "text": [
            "Name\n",
            "Age\n",
            "Weight\n",
            "\n",
            "Rahul\n",
            "22\n",
            "55\n",
            "\n",
            "('Name', 'Rahul')\n",
            "('Age', '22')\n",
            "('Weight', '55')\n"
          ],
          "name": "stdout"
        }
      ]
    }
  ]
}