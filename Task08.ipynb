{
  "nbformat": 4,
  "nbformat_minor": 0,
  "metadata": {
    "colab": {
      "name": "Task08.ipynb",
      "provenance": []
    },
    "kernelspec": {
      "name": "python3",
      "display_name": "Python 3"
    },
    "language_info": {
      "name": "python"
    }
  },
  "cells": [
    {
      "cell_type": "markdown",
      "metadata": {
        "id": "rXYqkP166fKE"
      },
      "source": [
        "## Task 9"
      ]
    },
    {
      "cell_type": "code",
      "metadata": {
        "colab": {
          "base_uri": "https://localhost:8080/"
        },
        "id": "Ot-VXEtc6UrK",
        "outputId": "065530a8-baa7-4a70-c8f0-d89a17bbdc9d"
      },
      "source": [
        "#Ask 2 numbers from users and store it in num1 and num2\n",
        "num1 = input(\"Enter Number 1:\")\n",
        "num2 = input(\"Enter Number 2:\")"
      ],
      "execution_count": 2,
      "outputs": [
        {
          "output_type": "stream",
          "text": [
            "Enter Number 1:10\n",
            "Enter Number 2:5\n"
          ],
          "name": "stdout"
        }
      ]
    },
    {
      "cell_type": "code",
      "metadata": {
        "colab": {
          "base_uri": "https://localhost:8080/"
        },
        "id": "uu__IHsz7OHQ",
        "outputId": "0715e92f-7d22-4661-ec2f-9ab028ec64e4"
      },
      "source": [
        "#Ask user to press 1 for addition,2 for subtraction,3 for multiplication and 4 for division\n",
        "print (\"Press 1 for Addition\")\n",
        "print (\"Press 2 for Substraction\")\n",
        "print (\"Press 3 for Multiplication\")\n",
        "print (\"Press 4 for Division\")\n",
        "c = input(\"Enter Your Choice:\")"
      ],
      "execution_count": 13,
      "outputs": [
        {
          "output_type": "stream",
          "text": [
            "Press 1 for Addition\n",
            "Press 2 for Substraction\n",
            "Press 3 for Multiplication\n",
            "Press 4 for Division\n",
            "Enter Your Choice:3\n"
          ],
          "name": "stdout"
        }
      ]
    },
    {
      "cell_type": "code",
      "metadata": {
        "colab": {
          "base_uri": "https://localhost:8080/"
        },
        "id": "GvnJD9Fx8E6z",
        "outputId": "569c36ea-5ff0-4107-f785-1aacff9b9696"
      },
      "source": [
        "#Based on number given by user do the math operation\n",
        "c=int(c)\n",
        "num1=int(num1)\n",
        "num2=int(num2)\n",
        "if(c==1):\n",
        "  sum = num1+num2\n",
        "  print(\"Addition is : \",sum)\n",
        "elif(c==2):\n",
        "  sub = num1-num2\n",
        "  print(\"Substraction is : \",sub)\n",
        "elif(c==3):\n",
        "  mult = num1*num2\n",
        "  print(\"Multiplication is : \",mult)\n",
        "elif(c==4):\n",
        "  div = num1/num2\n",
        "  print(\"Division is : \",div)\n",
        "else:\n",
        "  print(\"Invalid Input\")"
      ],
      "execution_count": 14,
      "outputs": [
        {
          "output_type": "stream",
          "text": [
            "Multiplication is :  50\n"
          ],
          "name": "stdout"
        }
      ]
    }
  ]
}