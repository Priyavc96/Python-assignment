{
  "nbformat": 4,
  "nbformat_minor": 0,
  "metadata": {
    "colab": {
      "name": "Task10.1ipynb",
      "provenance": []
    },
    "kernelspec": {
      "name": "python3",
      "display_name": "Python 3"
    },
    "language_info": {
      "name": "python"
    }
  },
  "cells": [
    {
      "cell_type": "markdown",
      "metadata": {
        "id": "e5fsIKxd2cjt"
      },
      "source": [
        "#Task 10\n",
        " Lambda,Map and Filter functions"
      ]
    },
    {
      "cell_type": "markdown",
      "metadata": {
        "id": "o5W1XCNI7dQ0"
      },
      "source": [
        "Reduce funtion:The reduce(fun,seq) function is used to apply a particular function passed in its argument to all of the list elements mentioned in the sequence passed along.This function is defined in “functools” module."
      ]
    },
    {
      "cell_type": "code",
      "metadata": {
        "colab": {
          "base_uri": "https://localhost:8080/"
        },
        "id": "wKfXZQ3D2iY0",
        "outputId": "c91aaaf7-de3c-4036-a3f5-ec662c84a578"
      },
      "source": [
        "A=[1,2,3,4,5]\n",
        "from functools import reduce\n",
        "def do_sum(x1,x2):\n",
        "    return x1+x2\n",
        "\n",
        "print(reduce(do_sum,A))"
      ],
      "execution_count": 8,
      "outputs": [
        {
          "output_type": "stream",
          "text": [
            "15\n"
          ],
          "name": "stdout"
        }
      ]
    },
    {
      "cell_type": "code",
      "metadata": {
        "colab": {
          "base_uri": "https://localhost:8080/"
        },
        "id": "JkdmEJnd4sig",
        "outputId": "50643ef3-1d0e-4258-c74d-644a96c7c336"
      },
      "source": [
        "B=(10,20,30,40,50)\n",
        "from functools import reduce\n",
        "def do_multiplication(y1,y2):\n",
        "    return y1*y2\n",
        "\n",
        "print(reduce(do_multiplication,B))"
      ],
      "execution_count": 9,
      "outputs": [
        {
          "output_type": "stream",
          "text": [
            "12000000\n"
          ],
          "name": "stdout"
        }
      ]
    },
    {
      "cell_type": "markdown",
      "metadata": {
        "id": "bdzZe1Yg7RRU"
      },
      "source": [
        "Zip function:The zip() function returns a zip object, which is an iterator of tuples where the first item in each passed iterator is paired together, and then the second item in each passed iterator are paired together etc."
      ]
    },
    {
      "cell_type": "code",
      "metadata": {
        "colab": {
          "base_uri": "https://localhost:8080/"
        },
        "id": "x0X8p_ul54uH",
        "outputId": "8a3898e5-bd34-431a-b946-33ca5f73dbc7"
      },
      "source": [
        "x=('Ram','Sham','Gopal')\n",
        "y=('Seeta','Radha','Geeta')\n",
        "\n",
        "C=zip(x,y)\n",
        "print(tuple(C))"
      ],
      "execution_count": 19,
      "outputs": [
        {
          "output_type": "stream",
          "text": [
            "(('Ram', 'Seeta'), ('Sham', 'Radha'), ('Gopal', 'Geeta'))\n"
          ],
          "name": "stdout"
        }
      ]
    },
    {
      "cell_type": "markdown",
      "metadata": {
        "id": "Y8Yf_rj77kzd"
      },
      "source": [
        "Enumerate function:The enumerate() function takes a collection (e.g. a tuple) and returns it as an enumerate object. The enumerate() function adds a counter as the key of the enumerate object.\n"
      ]
    },
    {
      "cell_type": "code",
      "metadata": {
        "colab": {
          "base_uri": "https://localhost:8080/"
        },
        "id": "bV267nJX8CV_",
        "outputId": "81524ebf-b331-43e1-881a-052b771d4a4b"
      },
      "source": [
        "a=['rose','lily','tulip','sunflower']\n",
        "b=enumerate(a)\n",
        "print(list(b))"
      ],
      "execution_count": 20,
      "outputs": [
        {
          "output_type": "stream",
          "text": [
            "[(0, 'rose'), (1, 'lily'), (2, 'tulip'), (3, 'sunflower')]\n"
          ],
          "name": "stdout"
        }
      ]
    }
  ]
}