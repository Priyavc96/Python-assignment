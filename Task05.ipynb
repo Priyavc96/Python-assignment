{
  "nbformat": 4,
  "nbformat_minor": 0,
  "metadata": {
    "colab": {
      "name": "Task05.ipynb",
      "provenance": []
    },
    "kernelspec": {
      "name": "python3",
      "display_name": "Python 3"
    },
    "language_info": {
      "name": "python"
    }
  },
  "cells": [
    {
      "cell_type": "code",
      "metadata": {
        "id": "WQPoQCFiw7NK"
      },
      "source": [
        ""
      ],
      "execution_count": null,
      "outputs": []
    },
    {
      "cell_type": "markdown",
      "metadata": {
        "id": "fKV1XUUxxFl5"
      },
      "source": [
        "##Task6 - Add and remove the elements from a tuple.\n"
      ]
    },
    {
      "cell_type": "code",
      "metadata": {
        "colab": {
          "base_uri": "https://localhost:8080/"
        },
        "id": "NcTSwWuwxKGV",
        "outputId": "3c3fb9d1-1817-4c0c-8603-b152bf504210"
      },
      "source": [
        "#try to add values \n",
        "tup1=(1,2,3,4,5,6,\"lion\",\"tiger\",\"elephant\")\n",
        "#convert to list\n",
        "list1=list(tup1)\n",
        "print(list1)"
      ],
      "execution_count": 23,
      "outputs": [
        {
          "output_type": "stream",
          "text": [
            "[1, 2, 3, 4, 5, 6, 'lion', 'tiger', 'elephant']\n"
          ],
          "name": "stdout"
        }
      ]
    },
    {
      "cell_type": "code",
      "metadata": {
        "colab": {
          "base_uri": "https://localhost:8080/"
        },
        "id": "LFvmVv8m1EP2",
        "outputId": "bdc3cd36-75cd-4ac0-ae72-c2e96e5ff468"
      },
      "source": [
        "#Add the value\n",
        "list1.append(\"monkey\")\n",
        "print(list1)"
      ],
      "execution_count": 24,
      "outputs": [
        {
          "output_type": "stream",
          "text": [
            "[1, 2, 3, 4, 5, 6, 'lion', 'tiger', 'elephant', 'monkey']\n"
          ],
          "name": "stdout"
        }
      ]
    },
    {
      "cell_type": "code",
      "metadata": {
        "colab": {
          "base_uri": "https://localhost:8080/"
        },
        "id": "EHGCbl0u3smQ",
        "outputId": "46f88f54-19de-4bf4-ce70-4f2d6164abbf"
      },
      "source": [
        "#Again convert list to tuple\n",
        "tup1=tuple(list1)\n",
        "print(tup1)"
      ],
      "execution_count": 25,
      "outputs": [
        {
          "output_type": "stream",
          "text": [
            "(1, 2, 3, 4, 5, 6, 'lion', 'tiger', 'elephant', 'monkey')\n"
          ],
          "name": "stdout"
        }
      ]
    },
    {
      "cell_type": "code",
      "metadata": {
        "colab": {
          "base_uri": "https://localhost:8080/"
        },
        "id": "02T0H5RQ2TLp",
        "outputId": "9bf53d82-c109-46af-dd69-e4d856413695"
      },
      "source": [
        "#Remove the value\n",
        "list1.pop(7)\n",
        "print(list1)"
      ],
      "execution_count": 27,
      "outputs": [
        {
          "output_type": "stream",
          "text": [
            "[1, 2, 3, 4, 5, 6, 'lion', 'elephant', 'monkey']\n"
          ],
          "name": "stdout"
        }
      ]
    },
    {
      "cell_type": "code",
      "metadata": {
        "colab": {
          "base_uri": "https://localhost:8080/"
        },
        "id": "WpXe1qrT4eam",
        "outputId": "95cac24a-3f9e-4047-ced7-2fd1880107c9"
      },
      "source": [
        "#Again convert list to tuple\n",
        "tup1=tuple(list1)\n",
        "print(tup1)"
      ],
      "execution_count": 29,
      "outputs": [
        {
          "output_type": "stream",
          "text": [
            "(1, 2, 3, 4, 5, 6, 'lion', 'elephant', 'monkey')\n"
          ],
          "name": "stdout"
        }
      ]
    }
  ]
}