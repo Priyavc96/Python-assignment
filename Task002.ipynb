{
  "nbformat": 4,
  "nbformat_minor": 0,
  "metadata": {
    "colab": {
      "name": "Task002.ipynb",
      "provenance": [],
      "collapsed_sections": []
    },
    "kernelspec": {
      "name": "python3",
      "display_name": "Python 3"
    },
    "language_info": {
      "name": "python"
    }
  },
  "cells": [
    {
      "cell_type": "markdown",
      "metadata": {
        "id": "J0gPM0Dtd_cQ"
      },
      "source": [
        "### Some python in built functions "
      ]
    },
    {
      "cell_type": "code",
      "metadata": {
        "id": "kopPvrwZeQLf"
      },
      "source": [
        "a=\"Tom\"\n",
        "b=\"hello world\""
      ],
      "execution_count": 12,
      "outputs": []
    },
    {
      "cell_type": "code",
      "metadata": {
        "colab": {
          "base_uri": "https://localhost:8080/"
        },
        "id": "Rqf7sz4Wea-o",
        "outputId": "a1f59cd5-5c9a-4c5f-8908-654e635e4e22"
      },
      "source": [
        "print(\"length of a is \",len(a)) #returns the length of a string\n",
        "print(\"length of b is \",len(b))"
      ],
      "execution_count": 13,
      "outputs": [
        {
          "output_type": "stream",
          "text": [
            "length of a is  3\n",
            "length of b is  11\n"
          ],
          "name": "stdout"
        }
      ]
    },
    {
      "cell_type": "code",
      "metadata": {
        "id": "7FA10i5PgFLP"
      },
      "source": [
        "num1 = 50.40\n",
        "num2 = 500.4568\n",
        "num3 = 9.9"
      ],
      "execution_count": 21,
      "outputs": []
    },
    {
      "cell_type": "code",
      "metadata": {
        "colab": {
          "base_uri": "https://localhost:8080/"
        },
        "id": "CVjtcdTsgOif",
        "outputId": "26d2ecc3-3ebb-4406-f682-1bfcb196ef4b"
      },
      "source": [
        "print(round(num1)) #round the value\n",
        "print(round(num2,2)) #round the value to n number of digit\n",
        "print(round(num3))"
      ],
      "execution_count": 22,
      "outputs": [
        {
          "output_type": "stream",
          "text": [
            "50\n",
            "500.46\n",
            "10\n"
          ],
          "name": "stdout"
        }
      ]
    },
    {
      "cell_type": "code",
      "metadata": {
        "id": "eQ3t7RqLh_Te"
      },
      "source": [
        "a1 = -50\n",
        "a2 = 50\n",
        "a3 = -56.20"
      ],
      "execution_count": 23,
      "outputs": []
    },
    {
      "cell_type": "code",
      "metadata": {
        "colab": {
          "base_uri": "https://localhost:8080/"
        },
        "id": "4S1AKFPtiHiJ",
        "outputId": "1e383300-fa4e-4349-a045-951655e890c6"
      },
      "source": [
        "print(abs(a1)) #return absolute value of a number\n",
        "print(abs(a2))\n",
        "print(abs(a3))"
      ],
      "execution_count": 25,
      "outputs": [
        {
          "output_type": "stream",
          "text": [
            "50\n",
            "50\n",
            "56.2\n"
          ],
          "name": "stdout"
        }
      ]
    },
    {
      "cell_type": "code",
      "metadata": {
        "colab": {
          "base_uri": "https://localhost:8080/"
        },
        "id": "SKxQ_D0Ui_rg",
        "outputId": "4db519e7-af67-46a9-c0d2-003260ce42c0"
      },
      "source": [
        "print(list(range(0,10))) #returns an immutable sequence of numbers starting from 0, increments by 1\n",
        "print(tuple(range(5,50,2)))"
      ],
      "execution_count": 29,
      "outputs": [
        {
          "output_type": "stream",
          "text": [
            "[0, 1, 2, 3, 4, 5, 6, 7, 8, 9]\n",
            "(5, 7, 9, 11, 13, 15, 17, 19, 21, 23, 25, 27, 29, 31, 33, 35, 37, 39, 41, 43, 45, 47, 49)\n"
          ],
          "name": "stdout"
        }
      ]
    },
    {
      "cell_type": "code",
      "metadata": {
        "colab": {
          "base_uri": "https://localhost:8080/"
        },
        "id": "DC354L8xjreE",
        "outputId": "92cff15c-01c0-43a0-a2ad-e979cdc20114"
      },
      "source": [
        "print(list(reversed(\"python\"))) #returns the reversed iterator of the given sequence\n",
        "print(list(reversed(\"Hello world\")))"
      ],
      "execution_count": 30,
      "outputs": [
        {
          "output_type": "stream",
          "text": [
            "['n', 'o', 'h', 't', 'y', 'p']\n",
            "['d', 'l', 'r', 'o', 'w', ' ', 'o', 'l', 'l', 'e', 'H']\n"
          ],
          "name": "stdout"
        }
      ]
    },
    {
      "cell_type": "markdown",
      "metadata": {
        "id": "_MrsW1ySlHqP"
      },
      "source": [
        "## check if \"to\" is present in \"welcome to python\""
      ]
    },
    {
      "cell_type": "code",
      "metadata": {
        "colab": {
          "base_uri": "https://localhost:8080/"
        },
        "id": "mhuVvlK_k3mT",
        "outputId": "7a3ff6f7-949d-4dbe-c2b8-553a8ae8c064"
      },
      "source": [
        "str1 = \"Welcome to python\"\n",
        "\"to\" in str1"
      ],
      "execution_count": 33,
      "outputs": [
        {
          "output_type": "execute_result",
          "data": {
            "text/plain": [
              "True"
            ]
          },
          "metadata": {
            "tags": []
          },
          "execution_count": 33
        }
      ]
    },
    {
      "cell_type": "code",
      "metadata": {
        "colab": {
          "base_uri": "https://localhost:8080/"
        },
        "id": "MShM4doBlUOc",
        "outputId": "e1ff11f9-b874-4da6-9f3a-421a7d8edbbc"
      },
      "source": [
        "str2 = \"Welcome to python\"\n",
        "\"Java\" in str2"
      ],
      "execution_count": 35,
      "outputs": [
        {
          "output_type": "execute_result",
          "data": {
            "text/plain": [
              "False"
            ]
          },
          "metadata": {
            "tags": []
          },
          "execution_count": 35
        }
      ]
    }
  ]
}