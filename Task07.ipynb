{
  "nbformat": 4,
  "nbformat_minor": 0,
  "metadata": {
    "colab": {
      "name": "Task07.ipynb",
      "provenance": []
    },
    "kernelspec": {
      "name": "python3",
      "display_name": "Python 3"
    },
    "language_info": {
      "name": "python"
    }
  },
  "cells": [
    {
      "cell_type": "markdown",
      "metadata": {
        "id": "5vaxKbf-R6Pp"
      },
      "source": [
        ""
      ]
    },
    {
      "cell_type": "markdown",
      "metadata": {
        "id": "d9rfAL6nSAoi"
      },
      "source": [
        "##Task 7\n"
      ]
    },
    {
      "cell_type": "code",
      "metadata": {
        "colab": {
          "base_uri": "https://localhost:8080/"
        },
        "id": "QzpLMQhpSFF2",
        "outputId": "35e8459c-372c-4a44-ec3c-6d39b9c74905"
      },
      "source": [
        "#Inbuilt methods\n",
        "#difference\n",
        "#If Set1 and Set2 are two sets. The set difference(Set3) of Set1 and Set2 is a set of elements that exists only in Set1 but not in Set2.\n",
        "Set1={1,2,3,4,5,6}\n",
        "Set2={5,6,7,8,9,10}\n",
        "Set3=Set1.difference(Set2)\n",
        "print(Set3)"
      ],
      "execution_count": 7,
      "outputs": [
        {
          "output_type": "stream",
          "text": [
            "{1, 2, 3, 4}\n"
          ],
          "name": "stdout"
        }
      ]
    },
    {
      "cell_type": "code",
      "metadata": {
        "colab": {
          "base_uri": "https://localhost:8080/"
        },
        "id": "K_dNeeovUqXL",
        "outputId": "63eff07c-fd58-4f9f-ef70-b9c7359a4f39"
      },
      "source": [
        "Set4=Set2.difference(Set1)\n",
        "print(Set4)"
      ],
      "execution_count": 9,
      "outputs": [
        {
          "output_type": "stream",
          "text": [
            "{8, 9, 10, 7}\n"
          ],
          "name": "stdout"
        }
      ]
    },
    {
      "cell_type": "code",
      "metadata": {
        "colab": {
          "base_uri": "https://localhost:8080/"
        },
        "id": "VxtA1A3dVJ5p",
        "outputId": "6bc39a6c-48fd-43b4-f803-146241ee7d99"
      },
      "source": [
        "#symmetric_difference\n",
        "#The symmetric difference of two sets A and B is the set of elements that are in either A or B, but not in their intersection.\n",
        "A={'a','b','c','d'}\n",
        "B={'c','d','e','f'}\n",
        "C=A.symmetric_difference(B)\n",
        "print(C)"
      ],
      "execution_count": 13,
      "outputs": [
        {
          "output_type": "stream",
          "text": [
            "{'a', 'e', 'f', 'b'}\n"
          ],
          "name": "stdout"
        }
      ]
    },
    {
      "cell_type": "code",
      "metadata": {
        "colab": {
          "base_uri": "https://localhost:8080/"
        },
        "id": "RYEYpcRcWqly",
        "outputId": "57160f5a-6402-486b-a297-6026bb0a3721"
      },
      "source": [
        "D=C.symmetric_difference(B)\n",
        "print(D)"
      ],
      "execution_count": 15,
      "outputs": [
        {
          "output_type": "stream",
          "text": [
            "{'a', 'd', 'c', 'b'}\n"
          ],
          "name": "stdout"
        }
      ]
    },
    {
      "cell_type": "code",
      "metadata": {
        "colab": {
          "base_uri": "https://localhost:8080/"
        },
        "id": "YkADglooXcBT",
        "outputId": "b0c3b198-624e-47e6-df99-1f01b31e2455"
      },
      "source": [
        "X={1,2,3}    #If both sets have same value output is null set.\n",
        "Y={1,2,3}\n",
        "Z=X.symmetric_difference(Y)\n",
        "print(Z)"
      ],
      "execution_count": 16,
      "outputs": [
        {
          "output_type": "stream",
          "text": [
            "set()\n"
          ],
          "name": "stdout"
        }
      ]
    }
  ]
}